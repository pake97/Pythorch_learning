{
  "nbformat": 4,
  "nbformat_minor": 0,
  "metadata": {
    "colab": {
      "name": "CIFAR-10_pytorch_autoencoder2d.ipynb",
      "provenance": []
    },
    "kernelspec": {
      "name": "python3",
      "display_name": "Python 3"
    },
    "language_info": {
      "name": "python"
    },
    "widgets": {
      "application/vnd.jupyter.widget-state+json": {
        "86f269ef1feb4787a9493f317fcc7660": {
          "model_module": "@jupyter-widgets/controls",
          "model_name": "HBoxModel",
          "model_module_version": "1.5.0",
          "state": {
            "_view_name": "HBoxView",
            "_dom_classes": [],
            "_model_name": "HBoxModel",
            "_view_module": "@jupyter-widgets/controls",
            "_model_module_version": "1.5.0",
            "_view_count": null,
            "_view_module_version": "1.5.0",
            "box_style": "",
            "layout": "IPY_MODEL_dfbaaad883af4d1fb15b7480eb9bfa42",
            "_model_module": "@jupyter-widgets/controls",
            "children": [
              "IPY_MODEL_8716b911921d42d99dc731521ef03265",
              "IPY_MODEL_da02f930b35b4819a783e70bc8f3bba3",
              "IPY_MODEL_12394186c4054618b9f809df600a9be3"
            ]
          }
        },
        "dfbaaad883af4d1fb15b7480eb9bfa42": {
          "model_module": "@jupyter-widgets/base",
          "model_name": "LayoutModel",
          "model_module_version": "1.2.0",
          "state": {
            "_view_name": "LayoutView",
            "grid_template_rows": null,
            "right": null,
            "justify_content": null,
            "_view_module": "@jupyter-widgets/base",
            "overflow": null,
            "_model_module_version": "1.2.0",
            "_view_count": null,
            "flex_flow": null,
            "width": null,
            "min_width": null,
            "border": null,
            "align_items": null,
            "bottom": null,
            "_model_module": "@jupyter-widgets/base",
            "top": null,
            "grid_column": null,
            "overflow_y": null,
            "overflow_x": null,
            "grid_auto_flow": null,
            "grid_area": null,
            "grid_template_columns": null,
            "flex": null,
            "_model_name": "LayoutModel",
            "justify_items": null,
            "grid_row": null,
            "max_height": null,
            "align_content": null,
            "visibility": null,
            "align_self": null,
            "height": null,
            "min_height": null,
            "padding": null,
            "grid_auto_rows": null,
            "grid_gap": null,
            "max_width": null,
            "order": null,
            "_view_module_version": "1.2.0",
            "grid_template_areas": null,
            "object_position": null,
            "object_fit": null,
            "grid_auto_columns": null,
            "margin": null,
            "display": null,
            "left": null
          }
        },
        "8716b911921d42d99dc731521ef03265": {
          "model_module": "@jupyter-widgets/controls",
          "model_name": "HTMLModel",
          "model_module_version": "1.5.0",
          "state": {
            "_view_name": "HTMLView",
            "style": "IPY_MODEL_c9cf70db1e1e4d66a6c3aff884ea8d12",
            "_dom_classes": [],
            "description": "",
            "_model_name": "HTMLModel",
            "placeholder": "​",
            "_view_module": "@jupyter-widgets/controls",
            "_model_module_version": "1.5.0",
            "value": "",
            "_view_count": null,
            "_view_module_version": "1.5.0",
            "description_tooltip": null,
            "_model_module": "@jupyter-widgets/controls",
            "layout": "IPY_MODEL_c4c749eee2ff405cbc66e4eeb295a246"
          }
        },
        "da02f930b35b4819a783e70bc8f3bba3": {
          "model_module": "@jupyter-widgets/controls",
          "model_name": "FloatProgressModel",
          "model_module_version": "1.5.0",
          "state": {
            "_view_name": "ProgressView",
            "style": "IPY_MODEL_9799da12564543b597e8d87896928a98",
            "_dom_classes": [],
            "description": "",
            "_model_name": "FloatProgressModel",
            "bar_style": "success",
            "max": 170498071,
            "_view_module": "@jupyter-widgets/controls",
            "_model_module_version": "1.5.0",
            "value": 170498071,
            "_view_count": null,
            "_view_module_version": "1.5.0",
            "orientation": "horizontal",
            "min": 0,
            "description_tooltip": null,
            "_model_module": "@jupyter-widgets/controls",
            "layout": "IPY_MODEL_d782dae623b24a6ab9e11e6b6f5546a5"
          }
        },
        "12394186c4054618b9f809df600a9be3": {
          "model_module": "@jupyter-widgets/controls",
          "model_name": "HTMLModel",
          "model_module_version": "1.5.0",
          "state": {
            "_view_name": "HTMLView",
            "style": "IPY_MODEL_8128068643ef40dd92509154a83e79f2",
            "_dom_classes": [],
            "description": "",
            "_model_name": "HTMLModel",
            "placeholder": "​",
            "_view_module": "@jupyter-widgets/controls",
            "_model_module_version": "1.5.0",
            "value": " 170499072/? [00:06&lt;00:00, 28617247.23it/s]",
            "_view_count": null,
            "_view_module_version": "1.5.0",
            "description_tooltip": null,
            "_model_module": "@jupyter-widgets/controls",
            "layout": "IPY_MODEL_aa725b8ce799404395012ea023145d5d"
          }
        },
        "c9cf70db1e1e4d66a6c3aff884ea8d12": {
          "model_module": "@jupyter-widgets/controls",
          "model_name": "DescriptionStyleModel",
          "model_module_version": "1.5.0",
          "state": {
            "_view_name": "StyleView",
            "_model_name": "DescriptionStyleModel",
            "description_width": "",
            "_view_module": "@jupyter-widgets/base",
            "_model_module_version": "1.5.0",
            "_view_count": null,
            "_view_module_version": "1.2.0",
            "_model_module": "@jupyter-widgets/controls"
          }
        },
        "c4c749eee2ff405cbc66e4eeb295a246": {
          "model_module": "@jupyter-widgets/base",
          "model_name": "LayoutModel",
          "model_module_version": "1.2.0",
          "state": {
            "_view_name": "LayoutView",
            "grid_template_rows": null,
            "right": null,
            "justify_content": null,
            "_view_module": "@jupyter-widgets/base",
            "overflow": null,
            "_model_module_version": "1.2.0",
            "_view_count": null,
            "flex_flow": null,
            "width": null,
            "min_width": null,
            "border": null,
            "align_items": null,
            "bottom": null,
            "_model_module": "@jupyter-widgets/base",
            "top": null,
            "grid_column": null,
            "overflow_y": null,
            "overflow_x": null,
            "grid_auto_flow": null,
            "grid_area": null,
            "grid_template_columns": null,
            "flex": null,
            "_model_name": "LayoutModel",
            "justify_items": null,
            "grid_row": null,
            "max_height": null,
            "align_content": null,
            "visibility": null,
            "align_self": null,
            "height": null,
            "min_height": null,
            "padding": null,
            "grid_auto_rows": null,
            "grid_gap": null,
            "max_width": null,
            "order": null,
            "_view_module_version": "1.2.0",
            "grid_template_areas": null,
            "object_position": null,
            "object_fit": null,
            "grid_auto_columns": null,
            "margin": null,
            "display": null,
            "left": null
          }
        },
        "9799da12564543b597e8d87896928a98": {
          "model_module": "@jupyter-widgets/controls",
          "model_name": "ProgressStyleModel",
          "model_module_version": "1.5.0",
          "state": {
            "_view_name": "StyleView",
            "_model_name": "ProgressStyleModel",
            "description_width": "",
            "_view_module": "@jupyter-widgets/base",
            "_model_module_version": "1.5.0",
            "_view_count": null,
            "_view_module_version": "1.2.0",
            "bar_color": null,
            "_model_module": "@jupyter-widgets/controls"
          }
        },
        "d782dae623b24a6ab9e11e6b6f5546a5": {
          "model_module": "@jupyter-widgets/base",
          "model_name": "LayoutModel",
          "model_module_version": "1.2.0",
          "state": {
            "_view_name": "LayoutView",
            "grid_template_rows": null,
            "right": null,
            "justify_content": null,
            "_view_module": "@jupyter-widgets/base",
            "overflow": null,
            "_model_module_version": "1.2.0",
            "_view_count": null,
            "flex_flow": null,
            "width": null,
            "min_width": null,
            "border": null,
            "align_items": null,
            "bottom": null,
            "_model_module": "@jupyter-widgets/base",
            "top": null,
            "grid_column": null,
            "overflow_y": null,
            "overflow_x": null,
            "grid_auto_flow": null,
            "grid_area": null,
            "grid_template_columns": null,
            "flex": null,
            "_model_name": "LayoutModel",
            "justify_items": null,
            "grid_row": null,
            "max_height": null,
            "align_content": null,
            "visibility": null,
            "align_self": null,
            "height": null,
            "min_height": null,
            "padding": null,
            "grid_auto_rows": null,
            "grid_gap": null,
            "max_width": null,
            "order": null,
            "_view_module_version": "1.2.0",
            "grid_template_areas": null,
            "object_position": null,
            "object_fit": null,
            "grid_auto_columns": null,
            "margin": null,
            "display": null,
            "left": null
          }
        },
        "8128068643ef40dd92509154a83e79f2": {
          "model_module": "@jupyter-widgets/controls",
          "model_name": "DescriptionStyleModel",
          "model_module_version": "1.5.0",
          "state": {
            "_view_name": "StyleView",
            "_model_name": "DescriptionStyleModel",
            "description_width": "",
            "_view_module": "@jupyter-widgets/base",
            "_model_module_version": "1.5.0",
            "_view_count": null,
            "_view_module_version": "1.2.0",
            "_model_module": "@jupyter-widgets/controls"
          }
        },
        "aa725b8ce799404395012ea023145d5d": {
          "model_module": "@jupyter-widgets/base",
          "model_name": "LayoutModel",
          "model_module_version": "1.2.0",
          "state": {
            "_view_name": "LayoutView",
            "grid_template_rows": null,
            "right": null,
            "justify_content": null,
            "_view_module": "@jupyter-widgets/base",
            "overflow": null,
            "_model_module_version": "1.2.0",
            "_view_count": null,
            "flex_flow": null,
            "width": null,
            "min_width": null,
            "border": null,
            "align_items": null,
            "bottom": null,
            "_model_module": "@jupyter-widgets/base",
            "top": null,
            "grid_column": null,
            "overflow_y": null,
            "overflow_x": null,
            "grid_auto_flow": null,
            "grid_area": null,
            "grid_template_columns": null,
            "flex": null,
            "_model_name": "LayoutModel",
            "justify_items": null,
            "grid_row": null,
            "max_height": null,
            "align_content": null,
            "visibility": null,
            "align_self": null,
            "height": null,
            "min_height": null,
            "padding": null,
            "grid_auto_rows": null,
            "grid_gap": null,
            "max_width": null,
            "order": null,
            "_view_module_version": "1.2.0",
            "grid_template_areas": null,
            "object_position": null,
            "object_fit": null,
            "grid_auto_columns": null,
            "margin": null,
            "display": null,
            "left": null
          }
        }
      }
    }
  },
  "cells": [
    {
      "cell_type": "code",
      "metadata": {
        "id": "rFY5DvwTfTAL"
      },
      "source": [
        "import numpy as np\n",
        "import torch\n",
        "import torch.nn as nn\n",
        "import torch.nn.functional as F\n",
        "import torch.optim as optim\n",
        "import matplotlib.pyplot as plt\n",
        "from torch.utils.data.sampler import SubsetRandomSampler\n",
        "from torch.utils.data import DataLoader\n",
        "from torchvision import datasets, transforms\n",
        "import matplotlib.pyplot as plt\n",
        "%matplotlib inline\n",
        "import torch.nn as nn\n",
        "import torch.nn.functional as F"
      ],
      "execution_count": 1,
      "outputs": []
    },
    {
      "cell_type": "code",
      "metadata": {
        "colab": {
          "base_uri": "https://localhost:8080/",
          "height": 100,
          "referenced_widgets": [
            "86f269ef1feb4787a9493f317fcc7660",
            "dfbaaad883af4d1fb15b7480eb9bfa42",
            "8716b911921d42d99dc731521ef03265",
            "da02f930b35b4819a783e70bc8f3bba3",
            "12394186c4054618b9f809df600a9be3",
            "c9cf70db1e1e4d66a6c3aff884ea8d12",
            "c4c749eee2ff405cbc66e4eeb295a246",
            "9799da12564543b597e8d87896928a98",
            "d782dae623b24a6ab9e11e6b6f5546a5",
            "8128068643ef40dd92509154a83e79f2",
            "aa725b8ce799404395012ea023145d5d"
          ]
        },
        "id": "qrOMxu-Mfhk5",
        "outputId": "735a48e6-f2c7-4087-e25d-fd7ce41b0fa9"
      },
      "source": [
        "#Converting data to torch.FloatTensor\n",
        "transform = transforms.ToTensor()\n",
        "\n",
        "# Download the training and test datasets\n",
        "train_data = datasets.CIFAR10(root='data', train=True, download=True, transform=transform)\n",
        "\n",
        "test_data = datasets.CIFAR10(root='data', train=False, download=True, transform=transform)"
      ],
      "execution_count": 2,
      "outputs": [
        {
          "output_type": "stream",
          "name": "stdout",
          "text": [
            "Downloading https://www.cs.toronto.edu/~kriz/cifar-10-python.tar.gz to data/cifar-10-python.tar.gz\n"
          ]
        },
        {
          "output_type": "display_data",
          "data": {
            "application/vnd.jupyter.widget-view+json": {
              "model_id": "86f269ef1feb4787a9493f317fcc7660",
              "version_minor": 0,
              "version_major": 2
            },
            "text/plain": [
              "  0%|          | 0/170498071 [00:00<?, ?it/s]"
            ]
          },
          "metadata": {}
        },
        {
          "output_type": "stream",
          "name": "stdout",
          "text": [
            "Extracting data/cifar-10-python.tar.gz to data\n",
            "Files already downloaded and verified\n"
          ]
        }
      ]
    },
    {
      "cell_type": "code",
      "metadata": {
        "id": "RCp5QF3Uf6WE"
      },
      "source": [
        "#Prepare data loaders\n",
        "train_loader = torch.utils.data.DataLoader(train_data, batch_size=32, num_workers=0)\n",
        "test_loader = torch.utils.data.DataLoader(test_data, batch_size=32, num_workers=0)"
      ],
      "execution_count": 3,
      "outputs": []
    },
    {
      "cell_type": "code",
      "metadata": {
        "colab": {
          "base_uri": "https://localhost:8080/",
          "height": 485
        },
        "id": "5REXx8HBf-ol",
        "outputId": "d0d53330-0bd0-4507-ff34-135d6bb02a47"
      },
      "source": [
        "#Utility functions to un-normalize and display an image\n",
        "def imshow(img):\n",
        "    img = img / 2 + 0.5  \n",
        "    plt.imshow(np.transpose(img, (1, 2, 0))) \n",
        "\n",
        " \n",
        "#Define the image classes\n",
        "classes = ['airplane', 'automobile', 'bird', 'cat', 'deer', 'dog', 'frog', 'horse', 'ship', 'truck']\n",
        "\n",
        "#Obtain one batch of training images\n",
        "dataiter = iter(train_loader)\n",
        "images, labels = dataiter.next()\n",
        "images = images.numpy() # convert images to numpy for display\n",
        "\n",
        "#Plot the images\n",
        "fig = plt.figure(figsize=(8, 8))\n",
        "# display 20 images\n",
        "for idx in np.arange(9):\n",
        "    ax = fig.add_subplot(3, 3, idx+1, xticks=[], yticks=[])\n",
        "    imshow(images[idx])\n",
        "    ax.set_title(classes[labels[idx]])"
      ],
      "execution_count": 4,
      "outputs": [
        {
          "output_type": "display_data",
          "data": {
            "image/png": "[encoded data removed]",
            "text/plain": [
              "<Figure size 576x576 with 9 Axes>"
            ]
          },
          "metadata": {}
        }
      ]
    },
    {
      "cell_type": "code",
      "metadata": {
        "colab": {
          "base_uri": "https://localhost:8080/"
        },
        "id": "KZz1zU9fgC2e",
        "outputId": "9800adbe-766b-4822-bb7f-b0b9bf970035"
      },
      "source": [
        "#Define the Convolutional Autoencoder\n",
        "class ConvAutoencoder(nn.Module):\n",
        "    def __init__(self):\n",
        "        super(ConvAutoencoder, self).__init__()\n",
        "       \n",
        "        #Encoder\n",
        "        self.conv1 = nn.Conv2d(3, 16, 3, padding=1)  \n",
        "        self.conv2 = nn.Conv2d(16, 4, 3, padding=1)\n",
        "        self.pool = nn.MaxPool2d(2, 2)\n",
        "       \n",
        "        #Decoder\n",
        "        self.t_conv1 = nn.ConvTranspose2d(4, 16, 2, stride=2)\n",
        "        self.t_conv2 = nn.ConvTranspose2d(16, 3, 2, stride=2)\n",
        "\n",
        "\n",
        "    def forward(self, x):\n",
        "        x = F.relu(self.conv1(x))\n",
        "        x = self.pool(x)\n",
        "        x = F.relu(self.conv2(x))\n",
        "        x = self.pool(x)\n",
        "        x = F.relu(self.t_conv1(x))\n",
        "        x = F.sigmoid(self.t_conv2(x))\n",
        "              \n",
        "        return x\n",
        "\n",
        "\n",
        "#Instantiate the model\n",
        "model = ConvAutoencoder()\n",
        "print(model)"
      ],
      "execution_count": 5,
      "outputs": [
        {
          "output_type": "stream",
          "name": "stdout",
          "text": [
            "ConvAutoencoder(\n",
            "  (conv1): Conv2d(3, 16, kernel_size=(3, 3), stride=(1, 1), padding=(1, 1))\n",
            "  (conv2): Conv2d(16, 4, kernel_size=(3, 3), stride=(1, 1), padding=(1, 1))\n",
            "  (pool): MaxPool2d(kernel_size=2, stride=2, padding=0, dilation=1, ceil_mode=False)\n",
            "  (t_conv1): ConvTranspose2d(4, 16, kernel_size=(2, 2), stride=(2, 2))\n",
            "  (t_conv2): ConvTranspose2d(16, 3, kernel_size=(2, 2), stride=(2, 2))\n",
            ")\n"
          ]
        }
      ]
    },
    {
      "cell_type": "code",
      "metadata": {
        "id": "4Lc6pFDigFhT"
      },
      "source": [
        "#Loss function\n",
        "criterion = nn.BCELoss()\n",
        "\n",
        "#Optimizer\n",
        "optimizer = torch.optim.Adam(model.parameters(), lr=0.001)"
      ],
      "execution_count": 6,
      "outputs": []
    },
    {
      "cell_type": "code",
      "metadata": {
        "colab": {
          "base_uri": "https://localhost:8080/"
        },
        "id": "wOyJmI49gInH",
        "outputId": "9a7d3fcc-04ae-41d3-d25e-1042d9c355ec"
      },
      "source": [
        "def get_device():\n",
        "    if torch.cuda.is_available():\n",
        "        device = 'cuda:0'\n",
        "    else:\n",
        "        device = 'cpu'\n",
        "    return device\n",
        "\n",
        "device = get_device()\n",
        "print(device)\n",
        "model.to(device)"
      ],
      "execution_count": 7,
      "outputs": [
        {
          "output_type": "stream",
          "name": "stdout",
          "text": [
            "cpu\n"
          ]
        },
        {
          "output_type": "execute_result",
          "data": {
            "text/plain": [
              "ConvAutoencoder(\n",
              "  (conv1): Conv2d(3, 16, kernel_size=(3, 3), stride=(1, 1), padding=(1, 1))\n",
              "  (conv2): Conv2d(16, 4, kernel_size=(3, 3), stride=(1, 1), padding=(1, 1))\n",
              "  (pool): MaxPool2d(kernel_size=2, stride=2, padding=0, dilation=1, ceil_mode=False)\n",
              "  (t_conv1): ConvTranspose2d(4, 16, kernel_size=(2, 2), stride=(2, 2))\n",
              "  (t_conv2): ConvTranspose2d(16, 3, kernel_size=(2, 2), stride=(2, 2))\n",
              ")"
            ]
          },
          "metadata": {},
          "execution_count": 7
        }
      ]
    },
    {
      "cell_type": "code",
      "metadata": {
        "colab": {
          "base_uri": "https://localhost:8080/"
        },
        "id": "5Jn6Ns01gJMz",
        "outputId": "1a6861bf-e09c-4492-a783-111746de338f"
      },
      "source": [
        "#Epochs\n",
        "n_epochs = 100\n",
        "\n",
        "for epoch in range(1, n_epochs+1):\n",
        "    # monitor training loss\n",
        "    train_loss = 0.0\n",
        "\n",
        "    #Training\n",
        "    for data in train_loader:\n",
        "        images, _ = data\n",
        "        images = images.to(device)\n",
        "        optimizer.zero_grad()\n",
        "        outputs = model(images)\n",
        "        loss = criterion(outputs, images)\n",
        "        loss.backward()\n",
        "        optimizer.step()\n",
        "        train_loss += loss.item()*images.size(0)\n",
        "          \n",
        "    train_loss = train_loss/len(train_loader)\n",
        "    print('Epoch: {} \\tTraining Loss: {:.6f}'.format(epoch, train_loss))\n"
      ],
      "execution_count": 8,
      "outputs": [
        {
          "output_type": "stream",
          "name": "stderr",
          "text": [
            "/usr/local/lib/python3.7/dist-packages/torch/nn/functional.py:1806: UserWarning: nn.functional.sigmoid is deprecated. Use torch.sigmoid instead.\n",
            "  warnings.warn(\"nn.functional.sigmoid is deprecated. Use torch.sigmoid instead.\")\n"
          ]
        },
        {
          "output_type": "stream",
          "name": "stdout",
          "text": [
            "Epoch: 1 \tTraining Loss: 18.784479\n",
            "Epoch: 2 \tTraining Loss: 18.265826\n",
            "Epoch: 3 \tTraining Loss: 18.206942\n",
            "Epoch: 4 \tTraining Loss: 18.178392\n",
            "Epoch: 5 \tTraining Loss: 18.159168\n",
            "Epoch: 6 \tTraining Loss: 18.143795\n",
            "Epoch: 7 \tTraining Loss: 18.131305\n",
            "Epoch: 8 \tTraining Loss: 18.120486\n",
            "Epoch: 9 \tTraining Loss: 18.109033\n",
            "Epoch: 10 \tTraining Loss: 18.100322\n",
            "Epoch: 11 \tTraining Loss: 18.092537\n",
            "Epoch: 12 \tTraining Loss: 18.084693\n",
            "Epoch: 13 \tTraining Loss: 18.079211\n",
            "Epoch: 14 \tTraining Loss: 18.074318\n",
            "Epoch: 15 \tTraining Loss: 18.070040\n",
            "Epoch: 16 \tTraining Loss: 18.066249\n",
            "Epoch: 17 \tTraining Loss: 18.062913\n",
            "Epoch: 18 \tTraining Loss: 18.060127\n",
            "Epoch: 19 \tTraining Loss: 18.057788\n",
            "Epoch: 20 \tTraining Loss: 18.055873\n",
            "Epoch: 21 \tTraining Loss: 18.054196\n",
            "Epoch: 22 \tTraining Loss: 18.052708\n",
            "Epoch: 23 \tTraining Loss: 18.051403\n",
            "Epoch: 24 \tTraining Loss: 18.050277\n",
            "Epoch: 25 \tTraining Loss: 18.049295\n",
            "Epoch: 26 \tTraining Loss: 18.048416\n",
            "Epoch: 27 \tTraining Loss: 18.047606\n",
            "Epoch: 28 \tTraining Loss: 18.046749\n",
            "Epoch: 29 \tTraining Loss: 18.046020\n",
            "Epoch: 30 \tTraining Loss: 18.044954\n",
            "Epoch: 31 \tTraining Loss: 18.044104\n",
            "Epoch: 32 \tTraining Loss: 18.043503\n",
            "Epoch: 33 \tTraining Loss: 18.042995\n",
            "Epoch: 34 \tTraining Loss: 18.042532\n",
            "Epoch: 35 \tTraining Loss: 18.042100\n",
            "Epoch: 36 \tTraining Loss: 18.041711\n",
            "Epoch: 37 \tTraining Loss: 18.041360\n",
            "Epoch: 38 \tTraining Loss: 18.041037\n",
            "Epoch: 39 \tTraining Loss: 18.040741\n",
            "Epoch: 40 \tTraining Loss: 18.040455\n",
            "Epoch: 41 \tTraining Loss: 18.040179\n",
            "Epoch: 42 \tTraining Loss: 18.039922\n",
            "Epoch: 43 \tTraining Loss: 18.039689\n",
            "Epoch: 44 \tTraining Loss: 18.039471\n",
            "Epoch: 45 \tTraining Loss: 18.039262\n",
            "Epoch: 46 \tTraining Loss: 18.039065\n",
            "Epoch: 47 \tTraining Loss: 18.038873\n",
            "Epoch: 48 \tTraining Loss: 18.038698\n",
            "Epoch: 49 \tTraining Loss: 18.038525\n",
            "Epoch: 50 \tTraining Loss: 18.038363\n",
            "Epoch: 51 \tTraining Loss: 18.038202\n",
            "Epoch: 52 \tTraining Loss: 18.038053\n",
            "Epoch: 53 \tTraining Loss: 18.037905\n",
            "Epoch: 54 \tTraining Loss: 18.037769\n",
            "Epoch: 55 \tTraining Loss: 18.037638\n",
            "Epoch: 56 \tTraining Loss: 18.037519\n",
            "Epoch: 57 \tTraining Loss: 18.037397\n",
            "Epoch: 58 \tTraining Loss: 18.037283\n",
            "Epoch: 59 \tTraining Loss: 18.037167\n",
            "Epoch: 60 \tTraining Loss: 18.037060\n",
            "Epoch: 61 \tTraining Loss: 18.036949\n",
            "Epoch: 62 \tTraining Loss: 18.036851\n",
            "Epoch: 63 \tTraining Loss: 18.036745\n",
            "Epoch: 64 \tTraining Loss: 18.036649\n",
            "Epoch: 65 \tTraining Loss: 18.036554\n",
            "Epoch: 66 \tTraining Loss: 18.036460\n",
            "Epoch: 67 \tTraining Loss: 18.036367\n",
            "Epoch: 68 \tTraining Loss: 18.036276\n",
            "Epoch: 69 \tTraining Loss: 18.036191\n",
            "Epoch: 70 \tTraining Loss: 18.036113\n",
            "Epoch: 71 \tTraining Loss: 18.036029\n",
            "Epoch: 72 \tTraining Loss: 18.035951\n",
            "Epoch: 73 \tTraining Loss: 18.035872\n",
            "Epoch: 74 \tTraining Loss: 18.035796\n",
            "Epoch: 75 \tTraining Loss: 18.035713\n",
            "Epoch: 76 \tTraining Loss: 18.035648\n",
            "Epoch: 77 \tTraining Loss: 18.035574\n",
            "Epoch: 78 \tTraining Loss: 18.035502\n",
            "Epoch: 79 \tTraining Loss: 18.035434\n",
            "Epoch: 80 \tTraining Loss: 18.035364\n",
            "Epoch: 81 \tTraining Loss: 18.035300\n",
            "Epoch: 82 \tTraining Loss: 18.035242\n",
            "Epoch: 83 \tTraining Loss: 18.035180\n",
            "Epoch: 84 \tTraining Loss: 18.035125\n",
            "Epoch: 85 \tTraining Loss: 18.035063\n",
            "Epoch: 86 \tTraining Loss: 18.035012\n",
            "Epoch: 87 \tTraining Loss: 18.034956\n",
            "Epoch: 88 \tTraining Loss: 18.034901\n",
            "Epoch: 89 \tTraining Loss: 18.034849\n",
            "Epoch: 90 \tTraining Loss: 18.034797\n",
            "Epoch: 91 \tTraining Loss: 18.034747\n",
            "Epoch: 92 \tTraining Loss: 18.034702\n",
            "Epoch: 93 \tTraining Loss: 18.034656\n",
            "Epoch: 94 \tTraining Loss: 18.034606\n",
            "Epoch: 95 \tTraining Loss: 18.034561\n",
            "Epoch: 96 \tTraining Loss: 18.034514\n",
            "Epoch: 97 \tTraining Loss: 18.034474\n",
            "Epoch: 98 \tTraining Loss: 18.034435\n",
            "Epoch: 99 \tTraining Loss: 18.034396\n",
            "Epoch: 100 \tTraining Loss: 18.034356\n"
          ]
        }
      ]
    },
    {
      "cell_type": "code",
      "metadata": {
        "colab": {
          "base_uri": "https://localhost:8080/",
          "height": 589
        },
        "id": "xUvf3fWDgNAS",
        "outputId": "dbeb3a88-9d14-441e-bf93-369b183e3c48"
      },
      "source": [
        "#Batch of test images\n",
        "dataiter = iter(test_loader)\n",
        "images, labels = dataiter.next()\n",
        "\n",
        "#Sample outputs\n",
        "output = model(images)\n",
        "images = images.numpy()\n",
        "batch_size=32\n",
        "output = output.view(batch_size, 3, 32, 32)\n",
        "output = output.detach().numpy()\n",
        "\n",
        "#Original Images\n",
        "print(\"Original Images\")\n",
        "fig, axes = plt.subplots(nrows=1, ncols=5, sharex=True, sharey=True, figsize=(12,4))\n",
        "for idx in np.arange(5):\n",
        "    ax = fig.add_subplot(1, 5, idx+1, xticks=[], yticks=[])\n",
        "    imshow(images[idx])\n",
        "    ax.set_title(classes[labels[idx]])\n",
        "plt.show()\n",
        "\n",
        "#Reconstructed Images\n",
        "print('Reconstructed Images')\n",
        "fig, axes = plt.subplots(nrows=1, ncols=5, sharex=True, sharey=True, figsize=(12,4))\n",
        "for idx in np.arange(5):\n",
        "    ax = fig.add_subplot(1, 5, idx+1, xticks=[], yticks=[])\n",
        "    imshow(output[idx])\n",
        "    ax.set_title(classes[labels[idx]])\n",
        "plt.show() "
      ],
      "execution_count": 12,
      "outputs": [
        {
          "output_type": "stream",
          "name": "stderr",
          "text": [
            "/usr/local/lib/python3.7/dist-packages/torch/nn/functional.py:1806: UserWarning: nn.functional.sigmoid is deprecated. Use torch.sigmoid instead.\n",
            "  warnings.warn(\"nn.functional.sigmoid is deprecated. Use torch.sigmoid instead.\")\n"
          ]
        },
        {
          "output_type": "stream",
          "name": "stdout",
          "text": [
            "Original Images\n"
          ]
        },
        {
          "output_type": "display_data",
          "data": {
            "image/png": "[encoded data removed]",
            "text/plain": [
              "<Figure size 864x288 with 10 Axes>"
            ]
          },
          "metadata": {
            "needs_background": "light"
          }
        },
        {
          "output_type": "stream",
          "name": "stdout",
          "text": [
            "Reconstructed Images\n"
          ]
        },
        {
          "output_type": "display_data",
          "data": {
            "image/png": "[encoded data removed]",
            "text/plain": [
              "<Figure size 864x288 with 10 Axes>"
            ]
          },
          "metadata": {
            "needs_background": "light"
          }
        }
      ]
    }
  ]
}